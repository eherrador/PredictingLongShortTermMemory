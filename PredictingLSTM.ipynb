{
  "nbformat": 4,
  "nbformat_minor": 0,
  "metadata": {
    "colab": {
      "provenance": [],
      "authorship_tag": "ABX9TyPM20Ycyuvtqgi6GqlTeaQK",
      "include_colab_link": true
    },
    "kernelspec": {
      "name": "python3",
      "display_name": "Python 3"
    },
    "language_info": {
      "name": "python"
    }
  },
  "cells": [
    {
      "cell_type": "markdown",
      "metadata": {
        "id": "view-in-github",
        "colab_type": "text"
      },
      "source": [
        "<a href=\"https://colab.research.google.com/github/eherrador/PredictingLongShortTermMemory/blob/main/PredictingLSTM.ipynb\" target=\"_parent\"><img src=\"https://colab.research.google.com/assets/colab-badge.svg\" alt=\"Open In Colab\"/></a>"
      ]
    },
    {
      "cell_type": "markdown",
      "source": [
        "### Step 1: Import Libraries"
      ],
      "metadata": {
        "id": "5uqz1mkR-9V9"
      }
    },
    {
      "cell_type": "code",
      "execution_count": 4,
      "metadata": {
        "id": "b1DLryPQh3vM"
      },
      "outputs": [],
      "source": [
        "import numpy as np\n",
        "import pandas as pd\n",
        "from keras.models import Sequential\n",
        "from keras.layers import LSTM, Dense, Dropout\n",
        "from sklearn.preprocessing import MinMaxScaler"
      ]
    },
    {
      "cell_type": "markdown",
      "source": [
        "### Step 2: Load and Prepare the Dataset"
      ],
      "metadata": {
        "id": "TTehEC1P_JNx"
      }
    },
    {
      "cell_type": "code",
      "source": [
        "# Load your dataset\n",
        "data = pd.read_csv('Melate.csv', header=None)\n",
        "\n",
        "# Show the first row of DataFrame\n",
        "print(data.head())\n",
        "\n",
        "# Convert data to numpy array\n",
        "data = data.values\n",
        "\n",
        "# Normalize the dataset\n",
        "scaler = MinMaxScaler(feature_range=(1, 56))  # Normalize between 1 and 56\n",
        "data_scaled = scaler.fit_transform(data)"
      ],
      "metadata": {
        "colab": {
          "base_uri": "https://localhost:8080/"
        },
        "id": "fZ5FpbjliES4",
        "outputId": "6b827ddc-be97-42b2-c627-de1027bc0a60"
      },
      "execution_count": null,
      "outputs": [
        {
          "output_type": "stream",
          "name": "stdout",
          "text": [
            "    0   1   2   3   4   5   6\n",
            "0  10  17  18  32  35  42  27\n",
            "1   6  15  16  22  39  56   9\n",
            "2  15  35  50  51  52  54  28\n",
            "3   4  14  15  30  31  56  23\n",
            "4   8  32  42  45  48  50   7\n"
          ]
        }
      ]
    },
    {
      "cell_type": "markdown",
      "source": [
        "### Step 3: Create Sequences for LSTM"
      ],
      "metadata": {
        "id": "VesKAdRe_hFi"
      }
    },
    {
      "cell_type": "code",
      "source": [
        "def create_dataset(data, time_step=1):\n",
        "    X, y = [], []\n",
        "    for i in range(len(data) - time_step):\n",
        "        X.append(data[i:(i + time_step), :])\n",
        "        y.append(data[i + time_step, :])\n",
        "    return np.array(X), np.array(y)\n",
        "\n",
        "# Create sequences with a time step (number of previous rows to consider)\n",
        "time_step = 10  # You can adjust this value\n",
        "X, y = create_dataset(data_scaled, time_step)"
      ],
      "metadata": {
        "id": "HmBGadmd_kPg"
      },
      "execution_count": null,
      "outputs": []
    },
    {
      "cell_type": "markdown",
      "source": [
        "### Step 4: Reshape Input for LSTM"
      ],
      "metadata": {
        "id": "j0KHuM-o_qKs"
      }
    },
    {
      "cell_type": "code",
      "source": [
        "X = X.reshape(X.shape[0], X.shape[1], X.shape[2])  # (samples, time steps, features)"
      ],
      "metadata": {
        "id": "gvp4aZk7_vbJ"
      },
      "execution_count": null,
      "outputs": []
    },
    {
      "cell_type": "markdown",
      "source": [
        "### Step 5: Build the LSTM Model"
      ],
      "metadata": {
        "id": "JX2SaUlkAAsb"
      }
    },
    {
      "cell_type": "code",
      "source": [
        "model = Sequential()\n",
        "model.add(LSTM(50, return_sequences=True, input_shape=(X.shape[1], X.shape[2])))\n",
        "model.add(Dropout(0.2))\n",
        "model.add(LSTM(50))\n",
        "model.add(Dropout(0.2))\n",
        "model.add(Dense(7, activation='linear'))  # 7 outputs for the 7 integers\n",
        "\n",
        "model.compile(optimizer='adam', loss='mean_squared_error')"
      ],
      "metadata": {
        "id": "d9waMY2CAGaC"
      },
      "execution_count": null,
      "outputs": []
    },
    {
      "cell_type": "markdown",
      "source": [
        "### Step 6: Train the Model"
      ],
      "metadata": {
        "id": "4kMS8ZsDAUej"
      }
    },
    {
      "cell_type": "code",
      "source": [
        "# model.fit(X_train, y_train, epochs=100, batch_size=32, validation_data=(X_test, y_test))\n",
        "model.fit(X, y, epochs=100, batch_size=32)"
      ],
      "metadata": {
        "id": "Ail25OQ3AYKl"
      },
      "execution_count": null,
      "outputs": []
    },
    {
      "cell_type": "markdown",
      "source": [
        "### Step 7: Make Predictions"
      ],
      "metadata": {
        "id": "wDgptvphA0y4"
      }
    },
    {
      "cell_type": "code",
      "source": [
        "# Get the last 'time_step' rows\n",
        "last_sequence = data_scaled[-time_step:]\n",
        "last_sequence = last_sequence.reshape((1, last_sequence.shape[0], last_sequence.shape[1]))\n",
        "\n",
        "# Make a prediction\n",
        "predicted = model.predict(last_sequence)\n",
        "predicted_row = scaler.inverse_transform(predicted)  # Rescale back to original range\n",
        "print(\"Predicted next row:\", predicted_row)"
      ],
      "metadata": {
        "id": "xXXm6abgA5uL"
      },
      "execution_count": null,
      "outputs": []
    }
  ]
}