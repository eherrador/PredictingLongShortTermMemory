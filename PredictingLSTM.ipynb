{
  "nbformat": 4,
  "nbformat_minor": 0,
  "metadata": {
    "colab": {
      "provenance": [],
      "authorship_tag": "ABX9TyOF3NmSRfgAl5i07MwNShhn",
      "include_colab_link": true
    },
    "kernelspec": {
      "name": "python3",
      "display_name": "Python 3"
    },
    "language_info": {
      "name": "python"
    }
  },
  "cells": [
    {
      "cell_type": "markdown",
      "metadata": {
        "id": "view-in-github",
        "colab_type": "text"
      },
      "source": [
        "<a href=\"https://colab.research.google.com/github/eherrador/PredictingLongShortTermMemory/blob/main/PredictingLSTM.ipynb\" target=\"_parent\"><img src=\"https://colab.research.google.com/assets/colab-badge.svg\" alt=\"Open In Colab\"/></a>"
      ]
    },
    {
      "cell_type": "code",
      "execution_count": 1,
      "metadata": {
        "id": "b1DLryPQh3vM"
      },
      "outputs": [],
      "source": [
        "import numpy as np\n",
        "import pandas as pd"
      ]
    },
    {
      "cell_type": "code",
      "source": [
        "# Load your dataset\n",
        "data = pd.read_csv('Melate.csv', header=None)\n",
        "\n",
        "# Show the first row of DataFrame\n",
        "print(data.head())\n",
        "\n",
        "# Convert data to numpy array\n",
        "data = data.values"
      ],
      "metadata": {
        "colab": {
          "base_uri": "https://localhost:8080/"
        },
        "id": "fZ5FpbjliES4",
        "outputId": "657a0c7c-6558-4a81-e1a8-3fce0bc046bb"
      },
      "execution_count": 3,
      "outputs": [
        {
          "output_type": "stream",
          "name": "stdout",
          "text": [
            "    0   1   2   3   4   5   6\n",
            "0  10  17  18  32  35  42  27\n",
            "1   6  15  16  22  39  56   9\n",
            "2  15  35  50  51  52  54  28\n",
            "3   4  14  15  30  31  56  23\n",
            "4   8  32  42  45  48  50   7\n"
          ]
        }
      ]
    }
  ]
}